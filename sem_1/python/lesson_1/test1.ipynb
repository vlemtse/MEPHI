{
 "cells": [
  {
   "cell_type": "code",
   "id": "c2182b54-04ef-4bae-8b62-f97fa8fdd7fa",
   "metadata": {
    "ExecuteTime": {
     "end_time": "2024-10-07T15:44:16.547546Z",
     "start_time": "2024-10-07T15:44:16.544673Z"
    }
   },
   "source": [
    "import numpy as np\n",
    "from nbclient.client import timestamp"
   ],
   "outputs": [],
   "execution_count": 8
  }
 ],
 "metadata": {
  "kernelspec": {
   "display_name": "Python 3 (ipykernel)",
   "language": "python",
   "name": "python3"
  },
  "language_info": {
   "codemirror_mode": {
    "name": "ipython",
    "version": 3
   },
   "file_extension": ".py",
   "mimetype": "text/x-python",
   "name": "python",
   "nbconvert_exporter": "python",
   "pygments_lexer": "ipython3",
   "version": "3.12.4"
  }
 },
 "nbformat": 4,
 "nbformat_minor": 5
}
