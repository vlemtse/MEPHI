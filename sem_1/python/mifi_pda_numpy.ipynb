{
 "cells": [
  {
   "cell_type": "markdown",
   "id": "6e2dcc30-aef0-4699-829f-782518930c1c",
   "metadata": {},
   "source": [
    "<div style=\"text-align: right\"> Марина Архипцева </div>\n",
    "\n",
    "### Основы Python для анализа данных\n",
    "**План**\n",
    "\n",
    "- Модуль Collections\n",
    "- Работа с данными в Numpy"
   ]
  },
  {
   "cell_type": "markdown",
   "id": "ae5bfa78-274e-4f1d-b7b8-c0e025935541",
   "metadata": {},
   "source": [
    "###  Модуль [Collections](https://docs.python.org/3/library/collections.html)"
   ]
  },
  {
   "cell_type": "markdown",
   "id": "32210ed8-08d6-4b13-baa9-57059ce924a2",
   "metadata": {},
   "source": [
    "#### namedtuple\n",
    "\n",
    "`namedtuple` — это подтип кортежа, который позволяет именовать поля и получать доступ к элементам через имена полей."
   ]
  },
  {
   "cell_type": "code",
   "execution_count": 123,
   "id": "0b1866b3-5ce6-4660-8d23-2a41abd7f112",
   "metadata": {},
   "outputs": [
    {
     "name": "stdout",
     "output_type": "stream",
     "text": [
      "10\n",
      "20\n",
      "10\n",
      "20\n"
     ]
    }
   ],
   "source": [
    "from collections import namedtuple\n",
    "\n",
    "# Создаём класс Point с полями x и y\n",
    "Point = namedtuple('Point', 'x y')\n",
    "# так же имена полей можем задавать как ['x', 'y'] или 'x, y'\n",
    "\n",
    "# Создаём экземпляр Point\n",
    "p = Point(10, 20)\n",
    "\n",
    "# Доступ к значениям через имена\n",
    "print(p.x)  # 10\n",
    "print(p.y)  # 20\n",
    "\n",
    "# Можно и через индексы, как в обычном кортеже\n",
    "print(p[0])  # 10\n",
    "print(p[1])  # 20\n",
    "\n",
    "# Namedtuple неизменяемый, как и обычный кортеж\n",
    "# p.x = 30  # Это вызовет ошибку"
   ]
  },
  {
   "cell_type": "code",
   "execution_count": 124,
   "id": "33f7d753-c740-4c4e-ad89-4a7eaeb3b05f",
   "metadata": {},
   "outputs": [
    {
     "name": "stdout",
     "output_type": "stream",
     "text": [
      "10\n",
      "20\n"
     ]
    }
   ],
   "source": [
    "# Распаковка\n",
    "x, y = p\n",
    "print(x)\n",
    "print(y)"
   ]
  },
  {
   "cell_type": "code",
   "execution_count": 125,
   "id": "fd1c594b-cf9c-4eda-90b6-02290c3e701e",
   "metadata": {},
   "outputs": [],
   "source": [
    "import csv\n",
    "from collections import namedtuple\n",
    "\n",
    "# Определяем структуру Employee с использованием namedtuple\n",
    "Employee = namedtuple('Employee', ['name', 'position', 'salary'])\n",
    "\n",
    "def read_employees_from_csv(filename):\n",
    "    ''' Читает данные из csv файла и возвращает список сотрудников'''\n",
    "    employees = []\n",
    "    with open(filename, mode='r', newline='', encoding='utf-8') as file:\n",
    "        reader = csv.reader(file)\n",
    "        next(reader)  # Пропускаем заголовок\n",
    "        for row in reader:\n",
    "            # Преобразуем строку зарплаты в целое число и создаем namedtuple Employee\n",
    "            name, position, salary = row\n",
    "            employees.append(Employee(name, position, int(salary)))\n",
    "    return employees\n",
    "\n",
    "def average_salary(employees):\n",
    "    ''' Возвращает среднюю зарплату сотрудников'''\n",
    "    total_salary = sum(emp.salary for emp in employees)\n",
    "    return total_salary / len(employees)\n",
    "\n",
    "def find_by_position(employees, position):\n",
    "    ''' Возвращает сотрудников с указанной должностью'''\n",
    "    return [emp for emp in employees if emp.position == position]"
   ]
  },
  {
   "cell_type": "code",
   "execution_count": 126,
   "id": "6e11a0e3-1911-4072-95c2-24c841cdea0e",
   "metadata": {},
   "outputs": [
    {
     "data": {
      "text/plain": [
       "[Employee(name='Alice', position='Manager', salary=80000),\n",
       " Employee(name='Bob', position='Developer', salary=60000),\n",
       " Employee(name='Charlie', position='Designer', salary=55000),\n",
       " Employee(name='David', position='Developer', salary=65000),\n",
       " Employee(name='Eve', position='Manager', salary=90000)]"
      ]
     },
     "execution_count": 126,
     "metadata": {},
     "output_type": "execute_result"
    }
   ],
   "source": [
    "employees = read_employees_from_csv('emp.csv')\n",
    "employees"
   ]
  },
  {
   "cell_type": "code",
   "execution_count": 127,
   "id": "5eff27ad-3472-45a2-bd21-82a828ff7914",
   "metadata": {},
   "outputs": [
    {
     "name": "stdout",
     "output_type": "stream",
     "text": [
      "Данные о сотрудниках:\n",
      "Alice -- должность: Manager, оклад: 80000\n",
      "Bob -- должность: Developer, оклад: 60000\n",
      "Charlie -- должность: Designer, оклад: 55000\n",
      "David -- должность: Developer, оклад: 65000\n",
      "Eve -- должность: Manager, оклад: 90000\n"
     ]
    }
   ],
   "source": [
    "# Cписок всех сотрудников\n",
    "print(\"Данные о сотрудниках:\")\n",
    "for emp in employees:\n",
    "    print(f\"{emp.name} -- должность: {emp.position}, оклад: {emp.salary}\")"
   ]
  },
  {
   "cell_type": "code",
   "execution_count": 128,
   "id": "938f54d9-fbf0-4d47-b681-2443ea7846aa",
   "metadata": {},
   "outputs": [
    {
     "name": "stdout",
     "output_type": "stream",
     "text": [
      "Средняя зарплата: 70000.00\n"
     ]
    }
   ],
   "source": [
    "# Cредняя зарплаты\n",
    "avg_salary = average_salary(employees)\n",
    "print(f\"Средняя зарплата: {avg_salary:.2f}\")"
   ]
  },
  {
   "cell_type": "code",
   "execution_count": 129,
   "id": "91d25aa9-6028-4d9f-bf62-c9143a742651",
   "metadata": {},
   "outputs": [
    {
     "name": "stdout",
     "output_type": "stream",
     "text": [
      "Список менеджеров:\n",
      "Alice, оклад: 80000\n",
      "Eve, оклад: 90000\n"
     ]
    }
   ],
   "source": [
    "# Поиск всех менеджеров\n",
    "managers = find_by_position(employees, 'Manager')\n",
    "print(\"Список менеджеров:\")\n",
    "for manager in managers:\n",
    "    print(f\"{manager.name}, оклад: {manager.salary}\")"
   ]
  },
  {
   "cell_type": "code",
   "execution_count": 130,
   "id": "575d1330-f685-47e3-9745-46bded3af4b6",
   "metadata": {},
   "outputs": [
    {
     "data": {
      "text/plain": [
       "[Employee(name='Alice', position='Manager', salary=80000),\n",
       " Employee(name='Eve', position='Manager', salary=90000)]"
      ]
     },
     "execution_count": 130,
     "metadata": {},
     "output_type": "execute_result"
    }
   ],
   "source": [
    "managers"
   ]
  },
  {
   "cell_type": "markdown",
   "id": "b3edf6cf-cdaf-4141-9fe6-ffa15d2b0a56",
   "metadata": {},
   "source": [
    "#### Counter\n",
    "\n",
    "`Counter` — это класс для подсчёта элементов, который автоматически создаёт словарь, где ключи — это объекты, а значения — их количество."
   ]
  },
  {
   "cell_type": "code",
   "execution_count": 131,
   "id": "ec743923-783b-4f6b-b90f-c9de007184c1",
   "metadata": {},
   "outputs": [
    {
     "data": {
      "text/plain": [
       "Counter({'было': 3,\n",
       "         'какая': 2,\n",
       "         'всё': 1,\n",
       "         'это': 1,\n",
       "         'свершился': 1,\n",
       "         'дней': 1,\n",
       "         'круговорот': 1,\n",
       "         'ложь': 1,\n",
       "         'сила': 1,\n",
       "         'тебя': 1,\n",
       "         'прошедшее': 1,\n",
       "         'вернет': 1})"
      ]
     },
     "execution_count": 131,
     "metadata": {},
     "output_type": "execute_result"
    }
   ],
   "source": [
    "from collections import Counter\n",
    "import re\n",
    "\n",
    "blok = '''\n",
    "Всё это было, было, было,\n",
    "Свершился дней круговорот.\n",
    "Какая ложь, какая сила\n",
    "Тебя, прошедшее, вернет?\n",
    "'''\n",
    "my_dict = Counter(re.split(' |\\n', re.sub(r'[^\\w\\s]', '', blok.lower()).strip('\\n')))\n",
    "my_dict"
   ]
  },
  {
   "cell_type": "code",
   "execution_count": 132,
   "id": "1a124b1d-f3e4-42d0-ae0e-be804d26f03f",
   "metadata": {},
   "outputs": [
    {
     "data": {
      "text/plain": [
       "[('было', 3), ('какая', 2), ('всё', 1)]"
      ]
     },
     "execution_count": 132,
     "metadata": {},
     "output_type": "execute_result"
    }
   ],
   "source": [
    "my_dict.most_common(3)"
   ]
  },
  {
   "cell_type": "code",
   "execution_count": 133,
   "id": "c4d7dd0c-faea-4bff-aa35-2da30e4ed437",
   "metadata": {},
   "outputs": [
    {
     "data": {
      "text/plain": [
       "['всё',\n",
       " 'это',\n",
       " 'было',\n",
       " 'было',\n",
       " 'было',\n",
       " 'свершился',\n",
       " 'дней',\n",
       " 'круговорот',\n",
       " 'какая',\n",
       " 'какая',\n",
       " 'ложь',\n",
       " 'сила',\n",
       " 'тебя',\n",
       " 'прошедшее',\n",
       " 'вернет']"
      ]
     },
     "execution_count": 133,
     "metadata": {},
     "output_type": "execute_result"
    }
   ],
   "source": [
    "# Cписок всех элементов\n",
    "list(my_dict.elements())"
   ]
  },
  {
   "cell_type": "code",
   "execution_count": 134,
   "id": "ccee185b-4212-4aa2-b42c-2345c0098c23",
   "metadata": {},
   "outputs": [],
   "source": [
    "import csv\n",
    "from collections import Counter\n",
    "\n",
    "def read_event_data_from_csv(filename):\n",
    "    ''' Функция для чтения данных о событиях из CSV файла'''\n",
    "    with open(filename, mode='r', newline='', encoding='utf-8') as file:\n",
    "        reader = csv.DictReader(file)\n",
    "        return Counter((row['тип'] for row in reader))"
   ]
  },
  {
   "cell_type": "code",
   "execution_count": 135,
   "id": "91643053-3f48-41ab-92e7-ebf7e1fbf8c6",
   "metadata": {},
   "outputs": [],
   "source": [
    "# Чтение данных о проданных билетах\n",
    "ticket_sales_1 = read_event_data_from_csv('продажи_1.csv')\n",
    "ticket_sales_2 = read_event_data_from_csv('продажи_2.csv')"
   ]
  },
  {
   "cell_type": "code",
   "execution_count": 136,
   "id": "94a22f47-28db-47e0-b501-00c289490909",
   "metadata": {},
   "outputs": [
    {
     "data": {
      "text/plain": [
       "Counter({'концерт': 303, 'театр': 253, 'выставка': 79})"
      ]
     },
     "execution_count": 136,
     "metadata": {},
     "output_type": "execute_result"
    }
   ],
   "source": [
    "ticket_sales_1"
   ]
  },
  {
   "cell_type": "code",
   "execution_count": 137,
   "id": "af1e97b7-b3da-4e73-8ecd-30ffd7679ea1",
   "metadata": {},
   "outputs": [
    {
     "data": {
      "text/plain": [
       "Counter({'концерт': 317, 'театр': 247, 'выставка': 71})"
      ]
     },
     "execution_count": 137,
     "metadata": {},
     "output_type": "execute_result"
    }
   ],
   "source": [
    "ticket_sales_2"
   ]
  },
  {
   "cell_type": "code",
   "execution_count": 138,
   "id": "d69ac7d6-b02c-4afa-85f1-954ed23d16e8",
   "metadata": {},
   "outputs": [
    {
     "name": "stdout",
     "output_type": "stream",
     "text": [
      "Общее количество проданных билетов по типам мероприятий:\n",
      "Counter({'концерт': 620, 'театр': 500, 'выставка': 150})\n",
      "Общее количество проданных билетов:\n",
      "1270\n"
     ]
    }
   ],
   "source": [
    "# Суммируем продажи из обоих файлов\n",
    "total_ticket_sales = ticket_sales_1 + ticket_sales_2\n",
    "\n",
    "print(\"Общее количество проданных билетов по типам мероприятий:\")\n",
    "print(total_ticket_sales)\n",
    "print(\"Общее количество проданных билетов:\")\n",
    "# действуем как с обычным словарем\n",
    "print(sum(total_ticket_sales.values()))"
   ]
  },
  {
   "cell_type": "code",
   "execution_count": 139,
   "id": "1aa5cc43-26d2-4766-901f-86ee2fc5a762",
   "metadata": {},
   "outputs": [
    {
     "data": {
      "text/plain": [
       "Counter({'театр': 58, 'концерт': 52, 'выставка': 17})"
      ]
     },
     "execution_count": 139,
     "metadata": {},
     "output_type": "execute_result"
    }
   ],
   "source": [
    "# Чтение данных о возвратах\n",
    "ticket_returns = read_event_data_from_csv('возвраты.csv')\n",
    "ticket_returns"
   ]
  },
  {
   "cell_type": "code",
   "execution_count": 140,
   "id": "9db71a09-0544-4986-bc93-89223cb6dd64",
   "metadata": {},
   "outputs": [
    {
     "name": "stdout",
     "output_type": "stream",
     "text": [
      "Количество проданных билетов после вычитания возвратов:\n",
      "Counter({'концерт': 568, 'театр': 442, 'выставка': 133})\n",
      "Общее количество проданных билетов:\n",
      "1143\n"
     ]
    }
   ],
   "source": [
    "# Корректируем общее количество проданных билетов с учетом возвратов\n",
    "adjusted_sales = total_ticket_sales - ticket_returns\n",
    "\n",
    "print(\"Количество проданных билетов после вычитания возвратов:\")\n",
    "print(adjusted_sales)\n",
    "print(\"Общее количество проданных билетов:\")\n",
    "print(sum(adjusted_sales.values()))"
   ]
  },
  {
   "cell_type": "code",
   "execution_count": 141,
   "id": "7fbb72fc-b0c3-419b-840a-321231f9401f",
   "metadata": {},
   "outputs": [
    {
     "data": {
      "text/plain": [
       "Counter({'выставка': 151, 'театр': 58, 'концерт': 52})"
      ]
     },
     "execution_count": 141,
     "metadata": {},
     "output_type": "execute_result"
    }
   ],
   "source": [
    "ticket_returns['выставка'] = 151\n",
    "ticket_returns"
   ]
  },
  {
   "cell_type": "code",
   "execution_count": 142,
   "id": "3dde7fe7-dda0-461e-8fae-501ec42dc879",
   "metadata": {},
   "outputs": [
    {
     "data": {
      "text/plain": [
       "Counter({'концерт': 568, 'театр': 442})"
      ]
     },
     "execution_count": 142,
     "metadata": {},
     "output_type": "execute_result"
    }
   ],
   "source": [
    "total_ticket_sales - ticket_returns"
   ]
  },
  {
   "cell_type": "code",
   "execution_count": 143,
   "id": "a1b12a1e-e6a3-42eb-8048-6e98bb7aec45",
   "metadata": {},
   "outputs": [
    {
     "name": "stdout",
     "output_type": "stream",
     "text": [
      "Количество проданных билетов после вычитания возвратов (с отрицательными значениями):\n",
      "Counter({'концерт': 568, 'театр': 442, 'выставка': -1})\n"
     ]
    }
   ],
   "source": [
    "# Вычитание с помощью метода subtract(), чтобы сохранить отрицательные значения\n",
    "# subtract модифицирует исходный счётчик\n",
    "adjusted_sales = total_ticket_sales.copy()  # Создаем копию, чтобы не менять оригинальные данные\n",
    "adjusted_sales.subtract(ticket_returns)\n",
    "\n",
    "print(\"Количество проданных билетов после вычитания возвратов (с отрицательными значениями):\")\n",
    "print(adjusted_sales)"
   ]
  },
  {
   "cell_type": "markdown",
   "id": "15a051ed-7281-4229-8c24-7454bd906362",
   "metadata": {},
   "source": [
    "#### defaultdict\n",
    "\n",
    "`defaultdict` — это подкласс словаря, который позволяет автоматически создавать значения для несуществующих ключей, если к ним обращаются.\n",
    "\n",
    "Главное преимущество defaultdict в том, что он упрощает работу с отсутствующими ключами и автоматически задает начальные значения, избегая ошибок KeyError."
   ]
  },
  {
   "cell_type": "code",
   "execution_count": 144,
   "id": "1d73a7fe-1519-440e-b24b-2c8a4aaff01d",
   "metadata": {},
   "outputs": [
    {
     "name": "stdout",
     "output_type": "stream",
     "text": [
      "defaultdict(<class 'list'>, {'a': [1, 2], 'b': [3]})\n"
     ]
    }
   ],
   "source": [
    "from collections import defaultdict\n",
    "\n",
    "d = defaultdict(list)\n",
    "\n",
    "d['a'].append(1)\n",
    "d['a'].append(2)\n",
    "d['b'].append(3)\n",
    "\n",
    "print(d)"
   ]
  },
  {
   "cell_type": "code",
   "execution_count": 145,
   "id": "ece907cd-9a0a-4ee8-ab27-0f4742dfb3e6",
   "metadata": {},
   "outputs": [
    {
     "name": "stdout",
     "output_type": "stream",
     "text": [
      "[]\n"
     ]
    },
    {
     "data": {
      "text/plain": [
       "defaultdict(list, {'a': [1, 2], 'b': [3], 'c': []})"
      ]
     },
     "execution_count": 145,
     "metadata": {},
     "output_type": "execute_result"
    }
   ],
   "source": [
    "# Ключа 'c' ещё нет, но при обращении он создастся автоматически\n",
    "print(d['c'])\n",
    "d"
   ]
  },
  {
   "cell_type": "code",
   "execution_count": 146,
   "id": "66c09a71-653d-4b30-8644-5c53b91dc2b8",
   "metadata": {},
   "outputs": [
    {
     "name": "stdout",
     "output_type": "stream",
     "text": [
      "0\n"
     ]
    }
   ],
   "source": [
    "# Значение по умолчанию - 0 (целое число)\n",
    "int_dict = defaultdict(int)\n",
    "\n",
    "int_dict['a'] += 1\n",
    "\n",
    "print(int_dict['b'])"
   ]
  },
  {
   "cell_type": "code",
   "execution_count": 147,
   "id": "8167df26-b12d-4787-938d-d15711d06322",
   "metadata": {},
   "outputs": [
    {
     "name": "stdout",
     "output_type": "stream",
     "text": [
      "defaultdict(<class 'int'>, {'a': 1, 'b': 0})\n"
     ]
    }
   ],
   "source": [
    "print(int_dict)"
   ]
  },
  {
   "cell_type": "code",
   "execution_count": 148,
   "id": "0ba0fedb-4e5a-4077-8783-c2fb4a20f925",
   "metadata": {},
   "outputs": [
    {
     "data": {
      "text/plain": [
       "defaultdict(list, {'Python': ['Alice', 'Charlie'], 'SQL': ['Bob', 'David']})"
      ]
     },
     "execution_count": 148,
     "metadata": {},
     "output_type": "execute_result"
    }
   ],
   "source": [
    "# Группируем студентов по курсам\n",
    "students = [('Alice', 'Python'), ('Bob', 'SQL'), ('Charlie', 'Python'), ('David', 'SQL')]\n",
    "\n",
    "# Используем defaultdict для группировки\n",
    "courses = defaultdict(list)\n",
    "for student, course in students:\n",
    "    courses[course].append(student)\n",
    "\n",
    "courses"
   ]
  },
  {
   "cell_type": "code",
   "execution_count": 149,
   "id": "af282e1d-4160-4acc-ac66-4608cc84d368",
   "metadata": {},
   "outputs": [
    {
     "data": {
      "text/plain": [
       "[]"
      ]
     },
     "execution_count": 149,
     "metadata": {},
     "output_type": "execute_result"
    }
   ],
   "source": [
    "courses['Data analysis']"
   ]
  },
  {
   "cell_type": "code",
   "execution_count": 150,
   "id": "20488b0f-303f-4bc7-8a84-7e6cf747c37d",
   "metadata": {},
   "outputs": [
    {
     "data": {
      "text/plain": [
       "defaultdict(list,\n",
       "            {'Python': ['Alice', 'Charlie'],\n",
       "             'SQL': ['Bob', 'David'],\n",
       "             'Data analysis': []})"
      ]
     },
     "execution_count": 150,
     "metadata": {},
     "output_type": "execute_result"
    }
   ],
   "source": [
    "courses"
   ]
  },
  {
   "cell_type": "markdown",
   "id": "b9345a1d-deaf-440e-a265-3abcba93b5e7",
   "metadata": {},
   "source": [
    "При создании defaultdict указывают фабрику (функцию), которая будет генерировать значения по умолчанию для несуществующих ключей. \n",
    "\n",
    "В зависимости от того, какая функция передана в качестве фабрики, значения по умолчанию будут разными."
   ]
  },
  {
   "cell_type": "markdown",
   "id": "3ee198d9-6baa-4ecf-85a0-990a61e101ff",
   "metadata": {},
   "source": [
    "- int: Значение по умолчанию — 0. Используется для подсчета элементов.\n",
    "- list: Значение по умолчанию — пустой список. Удобен для хранения нескольких значений по одному ключу.\n",
    "- set: Значение по умолчанию — пустое множество. Полезен для хранения уникальных значений.\n",
    "- str: Значение по умолчанию — пустая строка. Применяется для работы со строковыми данными.\n",
    "- float: Значение по умолчанию — 0.0. Полезен для работы с числами с плавающей точкой.\n",
    "- Пользовательская функция: Можно указать функцию для генерации произвольного значения по умолчанию."
   ]
  },
  {
   "cell_type": "code",
   "execution_count": 151,
   "id": "436a646d-29bf-41d1-894e-978b59606956",
   "metadata": {},
   "outputs": [
    {
     "name": "stdout",
     "output_type": "stream",
     "text": [
      "неизвестно\n"
     ]
    }
   ],
   "source": [
    "from collections import defaultdict\n",
    "\n",
    "# Фабрика, возвращающая значение по умолчанию \"неизвестно\"\n",
    "def default_value():\n",
    "    return \"неизвестно\"\n",
    "\n",
    "custom_default_dict = defaultdict(default_value)\n",
    "\n",
    "print(custom_default_dict['name'])"
   ]
  },
  {
   "cell_type": "code",
   "execution_count": 152,
   "id": "43b88fc6-015f-449a-a74b-f287d93ab3ae",
   "metadata": {},
   "outputs": [
    {
     "data": {
      "text/plain": [
       "defaultdict(<function __main__.default_value()>, {'name': 'неизвестно'})"
      ]
     },
     "execution_count": 152,
     "metadata": {},
     "output_type": "execute_result"
    }
   ],
   "source": [
    "custom_default_dict"
   ]
  },
  {
   "cell_type": "code",
   "execution_count": 153,
   "id": "83025044-33fd-4887-9f6d-c02638621c8d",
   "metadata": {},
   "outputs": [
    {
     "data": {
      "text/plain": [
       "defaultdict(<function __main__.<lambda>()>, {'name': 'неизвестно'})"
      ]
     },
     "execution_count": 153,
     "metadata": {},
     "output_type": "execute_result"
    }
   ],
   "source": [
    "custom_default_dict = defaultdict(lambda : \"неизвестно\")\n",
    "\n",
    "custom_default_dict['name']\n",
    "custom_default_dict"
   ]
  },
  {
   "cell_type": "markdown",
   "id": "e0285318-fe38-4a10-ab2c-a61faf330018",
   "metadata": {},
   "source": [
    "#### OrderedDict\n",
    "\n",
    "`OrderedDict` — это словарь, который запоминает порядок добавления элементов. \n",
    "\n",
    "** В Python 3.7+ встроенные словари уже сохраняют порядок."
   ]
  },
  {
   "cell_type": "code",
   "execution_count": 154,
   "id": "9d78a537-8e97-4f2e-95c1-f2e5a10b4f43",
   "metadata": {},
   "outputs": [
    {
     "name": "stdout",
     "output_type": "stream",
     "text": [
      "OrderedDict({'one': 1, 'two': 2, 'three': 3})\n"
     ]
    }
   ],
   "source": [
    "from collections import OrderedDict\n",
    "\n",
    "od = OrderedDict()\n",
    "od['one'] = 1\n",
    "od['two'] = 2\n",
    "od['three'] = 3\n",
    "\n",
    "print(od)"
   ]
  },
  {
   "cell_type": "code",
   "execution_count": 155,
   "id": "15f623bf-0c70-4876-83d8-73199596930a",
   "metadata": {},
   "outputs": [
    {
     "name": "stdout",
     "output_type": "stream",
     "text": [
      "OrderedDict({'two': 2, 'three': 3, 'one': 1})\n"
     ]
    }
   ],
   "source": [
    "# Перемещение элемента в конец\n",
    "od.move_to_end('one')\n",
    "print(od)"
   ]
  },
  {
   "cell_type": "code",
   "execution_count": 156,
   "id": "b98046ef-804e-4ec4-83e9-5336b55887c7",
   "metadata": {},
   "outputs": [
    {
     "name": "stdout",
     "output_type": "stream",
     "text": [
      "OrderedDict({'a': 1, 'b': 2, 'c': 3})\n"
     ]
    }
   ],
   "source": [
    "# Реализация LRU-кэша (least recently used)\n",
    "cache = OrderedDict()\n",
    "\n",
    "def add_to_cache(key, value):\n",
    "    if key in cache:\n",
    "        cache.move_to_end(key)  # Обновляем позицию элемента\n",
    "    cache[key] = value\n",
    "    if len(cache) > 3:  # Ограничение на размер кэша\n",
    "        cache.popitem(last=False)  # Удаляем первый (наименее используемый) элемент\n",
    "\n",
    "add_to_cache('a', 1)\n",
    "add_to_cache('b', 2)\n",
    "add_to_cache('c', 3)\n",
    "print(cache)"
   ]
  },
  {
   "cell_type": "code",
   "execution_count": 157,
   "id": "9861a502-b8ad-4471-95dd-7fbceee1ba42",
   "metadata": {},
   "outputs": [
    {
     "name": "stdout",
     "output_type": "stream",
     "text": [
      "OrderedDict({'b': 2, 'c': 3, 'a': 1})\n"
     ]
    }
   ],
   "source": [
    "add_to_cache('a', 1)\n",
    "print(cache)"
   ]
  },
  {
   "cell_type": "code",
   "execution_count": 158,
   "id": "86c28c78-4eaf-4466-a41e-bb12332b397d",
   "metadata": {},
   "outputs": [
    {
     "name": "stdout",
     "output_type": "stream",
     "text": [
      "OrderedDict({'c': 3, 'a': 1, 'd': 4})\n"
     ]
    }
   ],
   "source": [
    "add_to_cache('d', 4)\n",
    "print(cache)"
   ]
  },
  {
   "cell_type": "markdown",
   "id": "9efe2669-8f80-4f82-931d-4809b5777327",
   "metadata": {},
   "source": [
    "### Стек (Stack)\n",
    "- **Описание**: Структура данных LIFO (Last In, First Out), где последний добавленный элемент извлекается первым.\n",
    "- **Операции в Python**:\n",
    "  - **`append()`**: Добавление элемента в стек.\n",
    "  - **`pop()`**: Удаление и возврат последнего элемента.\n",
    "- **Пример использования**: \n",
    "  - **Отмена действий** (Undo) в приложениях.\n",
    "  - **Обратный обход данных**, например, разворачивание строки.\n",
    "\n",
    "### Очередь (Queue)\n",
    "- **Описание**: Структура данных FIFO (First In, First Out), где первый добавленный элемент извлекается первым.\n",
    "- **Операции в Python**:\n",
    "  - **`append()`**: Добавление элемента в конец очереди.\n",
    "  - **`popleft()`**: Удаление и возврат элемента с начала очереди (если используется `deque`).\n",
    "- **Пример использования**:\n",
    "  - **Очередь задач** для обработки по порядку поступления.\n",
    "  - **Обработка клиентов** в очереди обслуживания.\n",
    "\n",
    "### Дек (Deque)\n",
    "- **Описание**: Двусторонняя очередь, поддерживающая добавление и удаление элементов с обоих концов.\n",
    "- **Операции в Python**:\n",
    "  - **`append()`**: Добавление элемента в конец.\n",
    "  - **`appendleft()`**: Добавление элемента в начало.\n",
    "  - **`pop()`**: Удаление элемента с конца.\n",
    "  - **`popleft()`**: Удаление элемента с начала.\n",
    "- **Пример использования**:\n",
    "  - **Кольцевой буфер** для хранения фиксированного количества последних элементов.\n",
    "  - **Реализация очередей с приоритетом** или поддержка LIFO/FIFO очередей в зависимости от задачи.\n"
   ]
  },
  {
   "cell_type": "markdown",
   "id": "178417f9-0b47-43f6-8bc8-c0c1c75dbef9",
   "metadata": {},
   "source": [
    "#### deque\n",
    "\n",
    "`deque (double-ended queue)` —  это двусторонняя очередь, которая позволяет добавлять и удалять элементы с обоих концов с высокой производительностью (O(1) для добавления и удаления)."
   ]
  },
  {
   "cell_type": "code",
   "execution_count": 159,
   "id": "488a412c-94ea-4c0c-99a1-f331d077a8e0",
   "metadata": {},
   "outputs": [
    {
     "name": "stdout",
     "output_type": "stream",
     "text": [
      "Создание deque\n",
      "deque([1, 2, 3])\n",
      "\n",
      "Добавление элемента справа\n",
      "deque([1, 2, 3, 4])\n",
      "\n",
      "Добавление элемента слева\n",
      "deque([0, 1, 2, 3, 4])\n",
      "\n",
      "Удаление элемента справа\n",
      "deque([0, 1, 2, 3])\n",
      "\n",
      "Удаление элемента слева\n",
      "deque([1, 2, 3])\n",
      "\n"
     ]
    }
   ],
   "source": [
    "from collections import deque\n",
    "\n",
    "print('Создание deque')\n",
    "d = deque([1, 2, 3])\n",
    "print(d, end='\\n\\n')\n",
    "\n",
    "print('Добавление элемента справа')\n",
    "d.append(4)\n",
    "print(d, end='\\n\\n')\n",
    "\n",
    "print('Добавление элемента слева')\n",
    "d.appendleft(0)\n",
    "print(d, end='\\n\\n')\n",
    "\n",
    "print('Удаление элемента справа')\n",
    "d.pop()\n",
    "print(d, end='\\n\\n')\n",
    "\n",
    "print('Удаление элемента слева')\n",
    "d.popleft()\n",
    "print(d, end='\\n\\n')"
   ]
  },
  {
   "cell_type": "code",
   "execution_count": 160,
   "id": "a7db14f5-dc9b-4f23-9658-3f17e46cbb29",
   "metadata": {},
   "outputs": [
    {
     "name": "stdout",
     "output_type": "stream",
     "text": [
      "Выполняется: Task 1\n",
      "Выполняется: Task 2\n",
      "Выполняется: Task 3\n"
     ]
    }
   ],
   "source": [
    "# Очередь задач\n",
    "tasks = deque()\n",
    "\n",
    "# Добавляем задачи\n",
    "tasks.append(\"Task 1\")\n",
    "tasks.append(\"Task 2\")\n",
    "tasks.append(\"Task 3\")\n",
    "\n",
    "# Работаем с задачами\n",
    "while tasks:\n",
    "    current_task = tasks.popleft()  # Берём задачу с начала очереди\n",
    "    print(f\"Выполняется: {current_task}\")"
   ]
  },
  {
   "cell_type": "markdown",
   "id": "a93949ac-2ea8-4fec-a38b-a0df16cc1c97",
   "metadata": {},
   "source": [
    "Параметр maxlen ограничивает максимальный размер очереди. Если размер очереди достигает указанного предела, при добавлении нового элемента происходит автоматическое удаление старейшего элемента (с противоположного конца).\n",
    "\n",
    "Это полезно в ситуациях, когда нужно хранить ограниченное количество данных (например, для реализации кэша или для анализа скользящего окна данных)."
   ]
  },
  {
   "cell_type": "code",
   "execution_count": 161,
   "id": "b5cc0738-8537-40ff-b8c6-de2d242005de",
   "metadata": {},
   "outputs": [
    {
     "name": "stdout",
     "output_type": "stream",
     "text": [
      "deque([1, 2, 3], maxlen=3)\n"
     ]
    }
   ],
   "source": [
    "# Кольцевой буфер — это структура данных, которая сохраняет только последние N элементов, удаляя самые старые при добавлении новых.\n",
    "\n",
    "# Создаем deque с максимальной длиной 3\n",
    "buffer = deque(maxlen=3)\n",
    "\n",
    "# Добавляем элементы в deque\n",
    "buffer.append(1)\n",
    "buffer.append(2)\n",
    "buffer.append(3)\n",
    "\n",
    "print(buffer)"
   ]
  },
  {
   "cell_type": "code",
   "execution_count": 162,
   "id": "10b450c4-b669-4cbe-ba7f-3aa7124b9b47",
   "metadata": {},
   "outputs": [
    {
     "name": "stdout",
     "output_type": "stream",
     "text": [
      "deque([2, 3, 4], maxlen=3)\n",
      "deque([3, 4, 5], maxlen=3)\n"
     ]
    }
   ],
   "source": [
    "# Добавляем новый элемент, первый элемент автоматически удаляется\n",
    "buffer.append(4)\n",
    "print(buffer)\n",
    "\n",
    "# Добавляем еще один элемент\n",
    "buffer.append(5)\n",
    "print(buffer)"
   ]
  },
  {
   "cell_type": "code",
   "execution_count": 163,
   "id": "a7695154-47b1-4b1a-acab-26ec17b8cff8",
   "metadata": {},
   "outputs": [
    {
     "name": "stdout",
     "output_type": "stream",
     "text": [
      "Текущее окно: [10]\n",
      "Среднее значение: 10.00\n",
      "\n",
      "Текущее окно: [10, 20]\n",
      "Среднее значение: 15.00\n",
      "\n",
      "Текущее окно: [10, 20, 30]\n",
      "Среднее значение: 20.00\n",
      "\n",
      "Текущее окно: [10, 20, 30, 40]\n",
      "Среднее значение: 25.00\n",
      "\n",
      "Текущее окно: [10, 20, 30, 40, 50]\n",
      "Среднее значение: 30.00\n",
      "\n",
      "Текущее окно: [20, 30, 40, 50, 60]\n",
      "Среднее значение: 40.00\n",
      "\n",
      "Текущее окно: [30, 40, 50, 60, 70]\n",
      "Среднее значение: 50.00\n",
      "\n"
     ]
    }
   ],
   "source": [
    "# Cкользящее окна\n",
    "# Допустим, у нас есть поток чисел, и мы хотим отслеживать последние N чисел для вычисления среднего значения\n",
    "\n",
    "# Создаем deque с максимальной длиной 5\n",
    "window = deque(maxlen=5)\n",
    "\n",
    "# Поток данных\n",
    "data = [10, 20, 30, 40, 50, 60, 70]\n",
    "\n",
    "# Проходим по данным и добавляем их в deque\n",
    "for num in data:\n",
    "    window.append(num)\n",
    "    print(f\"Текущее окно: {list(window)}\")\n",
    "    print(f\"Среднее значение: {sum(window)/len(window):.2f}\\n\")"
   ]
  },
  {
   "cell_type": "code",
   "execution_count": 164,
   "id": "04414f11-0cd7-4ef5-a799-0709be99f462",
   "metadata": {},
   "outputs": [
    {
     "name": "stdout",
     "output_type": "stream",
     "text": [
      "deque(['request_1', 'request_2', 'request_3'], maxlen=3)\n",
      "deque(['request_2', 'request_3', 'request_4'], maxlen=3)\n",
      "deque(['request_3', 'request_4', 'request_5'], maxlen=3)\n"
     ]
    }
   ],
   "source": [
    "# Кэш с фиксированным числом последних запросов\n",
    "# Как только кэш заполнен, самые старые запросы будут автоматически удаляться\n",
    "\n",
    "cache = deque(maxlen=3)\n",
    "\n",
    "# Симуляция запросов\n",
    "cache.append('request_1')\n",
    "cache.append('request_2')\n",
    "cache.append('request_3')\n",
    "\n",
    "print(cache)\n",
    "\n",
    "# Новый запрос — старейший запрос автоматически удаляется\n",
    "cache.append('request_4')\n",
    "print(cache)\n",
    "\n",
    "# Добавляем еще один запрос\n",
    "cache.append('request_5')\n",
    "print(cache)"
   ]
  },
  {
   "cell_type": "code",
   "execution_count": 165,
   "id": "b31c8acd-9727-41cd-89e9-7979d46a04d2",
   "metadata": {},
   "outputs": [
    {
     "data": {
      "text/plain": [
       "deque([1, 2, 3])"
      ]
     },
     "execution_count": 165,
     "metadata": {},
     "output_type": "execute_result"
    }
   ],
   "source": [
    "dq = deque([1, 2, 3])\n",
    "dq"
   ]
  },
  {
   "cell_type": "code",
   "execution_count": 166,
   "id": "6cd04038-920b-44de-8899-5f0d1c773383",
   "metadata": {},
   "outputs": [
    {
     "data": {
      "text/plain": [
       "deque([1, 2, 3, 4])"
      ]
     },
     "execution_count": 166,
     "metadata": {},
     "output_type": "execute_result"
    }
   ],
   "source": [
    "# Добавить в конец\n",
    "dq.append(4)\n",
    "dq"
   ]
  },
  {
   "cell_type": "code",
   "execution_count": 167,
   "id": "3b567b4e-4eba-4f92-858a-f5640767462a",
   "metadata": {},
   "outputs": [
    {
     "data": {
      "text/plain": [
       "deque([0, 1, 2, 3, 4])"
      ]
     },
     "execution_count": 167,
     "metadata": {},
     "output_type": "execute_result"
    }
   ],
   "source": [
    "# Добавить в начало\n",
    "dq.appendleft(0)\n",
    "dq"
   ]
  },
  {
   "cell_type": "code",
   "execution_count": 168,
   "id": "19e3ba04-dc77-4717-9d77-a7394d0d5516",
   "metadata": {},
   "outputs": [
    {
     "data": {
      "text/plain": [
       "deque([0, 1, 2, 3, 4, 5, 6])"
      ]
     },
     "execution_count": 168,
     "metadata": {},
     "output_type": "execute_result"
    }
   ],
   "source": [
    "# Добавить несколько элементов в конец\n",
    "dq.extend([5, 6])\n",
    "dq"
   ]
  },
  {
   "cell_type": "code",
   "execution_count": 169,
   "id": "d0e7225c-e9c2-4412-8c4b-2a76d2fd18fe",
   "metadata": {},
   "outputs": [
    {
     "data": {
      "text/plain": [
       "deque([-1, -2, 0, 1, 2, 3, 4, 5, 6])"
      ]
     },
     "execution_count": 169,
     "metadata": {},
     "output_type": "execute_result"
    }
   ],
   "source": [
    "# Добавить несколько элементов в начало (инвертированный порядок)\n",
    "dq.extendleft([-2, -1])\n",
    "dq"
   ]
  },
  {
   "cell_type": "code",
   "execution_count": 170,
   "id": "6e275cdf-228b-41d7-ac4c-9abcde2497f7",
   "metadata": {},
   "outputs": [
    {
     "data": {
      "text/plain": [
       "deque([-1, -2, 0, 1, 2, 3, 4, 5])"
      ]
     },
     "execution_count": 170,
     "metadata": {},
     "output_type": "execute_result"
    }
   ],
   "source": [
    "# Удалить и вернуть элемент из конца\n",
    "dq.pop()\n",
    "dq"
   ]
  },
  {
   "cell_type": "code",
   "execution_count": 171,
   "id": "011e563a-8a51-4265-89c6-efa3c02b3b3d",
   "metadata": {},
   "outputs": [
    {
     "data": {
      "text/plain": [
       "deque([-2, 0, 1, 2, 3, 4, 5])"
      ]
     },
     "execution_count": 171,
     "metadata": {},
     "output_type": "execute_result"
    }
   ],
   "source": [
    "# Удалить и вернуть элемент из начала\n",
    "dq.popleft()\n",
    "dq"
   ]
  },
  {
   "cell_type": "code",
   "execution_count": 172,
   "id": "44fc16b6-a8cc-46a6-a5fe-5ed8c796e3a6",
   "metadata": {},
   "outputs": [
    {
     "data": {
      "text/plain": [
       "deque([5, -2, 0, 1, 2, 3, 4])"
      ]
     },
     "execution_count": 172,
     "metadata": {},
     "output_type": "execute_result"
    }
   ],
   "source": [
    "# Сдвинуть элементы вправо\n",
    "dq.rotate(1)\n",
    "dq"
   ]
  },
  {
   "cell_type": "code",
   "execution_count": 173,
   "id": "32724b4a-972b-4927-8a32-6a74ad59a2ef",
   "metadata": {},
   "outputs": [
    {
     "data": {
      "text/plain": [
       "deque([5, -2, 0, 1, 3, 4])"
      ]
     },
     "execution_count": 173,
     "metadata": {},
     "output_type": "execute_result"
    }
   ],
   "source": [
    "# Удалить первое вхождение элемента 2\n",
    "dq.remove(2)\n",
    "dq"
   ]
  },
  {
   "cell_type": "code",
   "execution_count": 174,
   "id": "992e17ea-c011-4a81-94ce-06b9fddeeeb5",
   "metadata": {},
   "outputs": [
    {
     "data": {
      "text/plain": [
       "1"
      ]
     },
     "execution_count": 174,
     "metadata": {},
     "output_type": "execute_result"
    }
   ],
   "source": [
    "# Подсчитать количество вхождений элемента 3\n",
    "count_3 = dq.count(3)    \n",
    "count_3"
   ]
  },
  {
   "cell_type": "code",
   "execution_count": 175,
   "id": "ccbaba8c-0a87-4e86-a9e8-4d6aa9730f1e",
   "metadata": {},
   "outputs": [
    {
     "data": {
      "text/plain": [
       "deque([])"
      ]
     },
     "execution_count": 175,
     "metadata": {},
     "output_type": "execute_result"
    }
   ],
   "source": [
    "# Очистить deque\n",
    "dq.clear()\n",
    "dq"
   ]
  },
  {
   "cell_type": "markdown",
   "id": "0ca9ad28-e00c-45f1-a703-67c90dbd68c3",
   "metadata": {},
   "source": [
    "### Работа с данными в [Numpy](https://numpy.org/doc/stable/user/absolute_beginners.html)"
   ]
  },
  {
   "cell_type": "markdown",
   "id": "281846cc-6a07-4740-a267-21897730cecb",
   "metadata": {},
   "source": [
    "[Дополнительный материал](https://quantum-ods.github.io/qmlcourse/book/linalg/ru/vectors.html)"
   ]
  },
  {
   "cell_type": "markdown",
   "id": "f6f5f4a0-9d93-4d79-9c0e-ff0924739e14",
   "metadata": {},
   "source": [
    "#### Типы данных"
   ]
  },
  {
   "cell_type": "code",
   "execution_count": 176,
   "id": "07266d89-2ee2-44da-8480-c3f07832fc20",
   "metadata": {},
   "outputs": [],
   "source": [
    "import numpy as np"
   ]
  },
  {
   "cell_type": "code",
   "execution_count": 177,
   "id": "b4dc366c-9aea-41e8-96ca-94e841b0eb46",
   "metadata": {},
   "outputs": [
    {
     "name": "stdout",
     "output_type": "stream",
     "text": [
      "2.1.1\n"
     ]
    }
   ],
   "source": [
    "print(np.__version__)"
   ]
  },
  {
   "cell_type": "code",
   "execution_count": 178,
   "id": "c80cf929-4e31-44b8-8c1f-c035512321b2",
   "metadata": {},
   "outputs": [
    {
     "data": {
      "text/plain": [
       "{'bool': numpy.bool,\n",
       " 'float16': numpy.float16,\n",
       " 'float32': numpy.float32,\n",
       " 'float64': numpy.float64,\n",
       " 'longdouble': numpy.longdouble,\n",
       " 'complex64': numpy.complex64,\n",
       " 'complex128': numpy.complex128,\n",
       " 'clongdouble': numpy.clongdouble,\n",
       " 'bytes_': numpy.bytes_,\n",
       " 'str_': numpy.str_,\n",
       " 'void': numpy.void,\n",
       " 'object_': numpy.object_,\n",
       " 'datetime64': numpy.datetime64,\n",
       " 'timedelta64': numpy.timedelta64,\n",
       " 'int8': numpy.int8,\n",
       " 'byte': numpy.int8,\n",
       " 'uint8': numpy.uint8,\n",
       " 'ubyte': numpy.uint8,\n",
       " 'int16': numpy.int16,\n",
       " 'short': numpy.int16,\n",
       " 'uint16': numpy.uint16,\n",
       " 'ushort': numpy.uint16,\n",
       " 'int32': numpy.int32,\n",
       " 'intc': numpy.int32,\n",
       " 'uint32': numpy.uint32,\n",
       " 'uintc': numpy.uint32,\n",
       " 'int64': numpy.int64,\n",
       " 'long': numpy.int64,\n",
       " 'uint64': numpy.uint64,\n",
       " 'ulong': numpy.uint64,\n",
       " 'longlong': numpy.longlong,\n",
       " 'ulonglong': numpy.ulonglong,\n",
       " 'intp': numpy.int64,\n",
       " 'uintp': numpy.uint64,\n",
       " 'double': numpy.float64,\n",
       " 'cdouble': numpy.complex128,\n",
       " 'single': numpy.float32,\n",
       " 'csingle': numpy.complex64,\n",
       " 'half': numpy.float16,\n",
       " 'bool_': numpy.bool,\n",
       " 'int_': numpy.int64,\n",
       " 'uint': numpy.uint64,\n",
       " 'float': numpy.float64,\n",
       " 'complex': numpy.complex128,\n",
       " 'object': numpy.object_,\n",
       " 'bytes': numpy.bytes_,\n",
       " 'a': numpy.bytes_,\n",
       " 'int': numpy.int64,\n",
       " 'str': numpy.str_,\n",
       " 'unicode': numpy.str_,\n",
       " 'float128': numpy.longdouble,\n",
       " 'complex256': numpy.clongdouble}"
      ]
     },
     "execution_count": 178,
     "metadata": {},
     "output_type": "execute_result"
    }
   ],
   "source": [
    "np.sctypeDict"
   ]
  },
  {
   "cell_type": "markdown",
   "id": "b20b1f45-ffca-41d9-8ba9-8483790c6328",
   "metadata": {},
   "source": [
    "#### Типы данных в NumPy\n",
    "\n",
    "##### 1. Целочисленные типы\n",
    "- **`int8`**: 8-битное целое число со знаком, диапазон от -128 до 127.\n",
    "- **`int16`**: 16-битное целое число со знаком, диапазон от -32,768 до 32,767.\n",
    "- **`int32`**: 32-битное целое число со знаком, диапазон от -2,147,483,648 до 2,147,483,647.\n",
    "- **`int64`**: 64-битное целое число со знаком, диапазон от -9,223,372,036,854,775,808 до 9,223,372,036,854,775,807.\n",
    "- **`int_`**: Целое число, зависящее от платформы (обычно `int64` на 64-битных системах, `int32` на 32-битных).\n",
    "\n",
    "##### Беззнаковые целые числа\n",
    "- **`uint8`**: 8-битное беззнаковое целое число, диапазон от 0 до 255.\n",
    "- **`uint16`**: 16-битное беззнаковое целое число, диапазон от 0 до 65,535.\n",
    "- **`uint32`**: 32-битное беззнаковое целое число, диапазон от 0 до 4,294,967,295.\n",
    "- **`uint64`**: 64-битное беззнаковое целое число, диапазон от 0 до 18,446,744,073,709,551,615."
   ]
  },
  {
   "cell_type": "code",
   "execution_count": 179,
   "id": "3a72fae3-13f0-4937-a1aa-ae04c45395c0",
   "metadata": {},
   "outputs": [
    {
     "data": {
      "text/plain": [
       "iinfo(min=0, max=18446744073709551615, dtype=uint64)"
      ]
     },
     "execution_count": 179,
     "metadata": {},
     "output_type": "execute_result"
    }
   ],
   "source": [
    "# информации о диапазоне значений\n",
    "np.iinfo(np.uint)"
   ]
  },
  {
   "cell_type": "code",
   "execution_count": 180,
   "id": "92854c6a-ca75-42a3-9733-07c09454ceb8",
   "metadata": {},
   "outputs": [
    {
     "data": {
      "text/plain": [
       "iinfo(min=-32768, max=32767, dtype=int16)"
      ]
     },
     "execution_count": 180,
     "metadata": {},
     "output_type": "execute_result"
    }
   ],
   "source": [
    "a = np.int16(146)\n",
    "np.iinfo(a)"
   ]
  },
  {
   "cell_type": "code",
   "execution_count": 181,
   "id": "b6651fad-3f60-4bff-9e08-fe70dbff22bc",
   "metadata": {},
   "outputs": [
    {
     "data": {
      "text/plain": [
       "iinfo(min=-9223372036854775808, max=9223372036854775807, dtype=int64)"
      ]
     },
     "execution_count": 181,
     "metadata": {},
     "output_type": "execute_result"
    }
   ],
   "source": [
    "a = 146\n",
    "np.iinfo(a)\n",
    "# преобразование в тип по умолчанию - int64"
   ]
  },
  {
   "cell_type": "code",
   "execution_count": 182,
   "id": "1633c341-9e4d-4d0f-8f7f-5e11c888bace",
   "metadata": {},
   "outputs": [
    {
     "name": "stdout",
     "output_type": "stream",
     "text": [
      "127\n",
      "<class 'numpy.int8'>\n"
     ]
    }
   ],
   "source": [
    "a = np.int8(100)\n",
    "a += 27\n",
    "print(a)\n",
    "print(type(a))"
   ]
  },
  {
   "cell_type": "code",
   "execution_count": 183,
   "id": "ca45f9da-db03-4675-a27c-1ae3e5f16834",
   "metadata": {},
   "outputs": [
    {
     "name": "stdout",
     "output_type": "stream",
     "text": [
      "-128\n",
      "<class 'numpy.int8'>\n"
     ]
    },
    {
     "name": "stderr",
     "output_type": "stream",
     "text": [
      "/tmp/ipykernel_372361/833484356.py:2: RuntimeWarning: overflow encountered in scalar add\n",
      "  b = a + 28\n"
     ]
    }
   ],
   "source": [
    "a = np.int8(100)\n",
    "b = a + 28\n",
    "print(b)\n",
    "print(type(b))"
   ]
  },
  {
   "cell_type": "markdown",
   "id": "a9f3f65e-50fa-41ee-aba3-77bd97dc2240",
   "metadata": {},
   "source": [
    "##### 2. Типы с плавающей запятой\n",
    "- **`float16`**: 16-битное число с плавающей запятой, диапазон от -6.55e4 до 6.55e4, точность около 3 знаков после запятой.\n",
    "- **`float32`**: 32-битное число с плавающей запятой, диапазон от -3.4e38 до 3.4e38, точность около 7 знаков.\n",
    "- **`float64`**: 64-битное число с плавающей запятой, диапазон от -1.7e308 до 1.7e308, точность около 15 знаков."
   ]
  },
  {
   "cell_type": "code",
   "execution_count": 184,
   "id": "0f35acb0-e7b5-48ae-afde-93d090a775dc",
   "metadata": {},
   "outputs": [
    {
     "data": {
      "text/plain": [
       "finfo(resolution=0.001, min=-6.55040e+04, max=6.55040e+04, dtype=float16)"
      ]
     },
     "execution_count": 184,
     "metadata": {},
     "output_type": "execute_result"
    }
   ],
   "source": [
    "np.finfo(np.half)"
   ]
  },
  {
   "cell_type": "code",
   "execution_count": 185,
   "id": "7d3019b5-2694-4ba6-8f6c-df140601ab36",
   "metadata": {},
   "outputs": [],
   "source": [
    "# np.finfo(np.float_)"
   ]
  },
  {
   "cell_type": "code",
   "execution_count": 186,
   "id": "22f2636f-5ed2-4ed7-9762-13eed8b4da9e",
   "metadata": {},
   "outputs": [
    {
     "data": {
      "text/plain": [
       "finfo(resolution=1e-18, min=-1.189731495357231765e+4932, max=1.189731495357231765e+4932, dtype=float128)"
      ]
     },
     "execution_count": 186,
     "metadata": {},
     "output_type": "execute_result"
    }
   ],
   "source": [
    "# доступность зависит от платформы\n",
    "np.finfo(np.float128)"
   ]
  },
  {
   "cell_type": "code",
   "execution_count": 187,
   "id": "dff3e3c9-5e0a-406c-a833-2c295eb943c5",
   "metadata": {},
   "outputs": [
    {
     "name": "stdout",
     "output_type": "stream",
     "text": [
      "3.143\n",
      "3.142857\n",
      "3.142857142857143\n"
     ]
    }
   ],
   "source": [
    "n = 22/7\n",
    "print(np.float16(n))\n",
    "print(np.float32(n))\n",
    "print(np.float64(n))"
   ]
  },
  {
   "cell_type": "markdown",
   "id": "3fb4a7fc-a1b0-4af1-91ce-74cdd8b87916",
   "metadata": {},
   "source": [
    "##### 3. Комплексные числа\n",
    "- **`complex64`**: Комплексное число, где реальная и мнимая части представлены как `float32`.\n",
    "- **`complex128`**: Комплексное число, где реальная и мнимая части представлены как `float64`."
   ]
  },
  {
   "cell_type": "markdown",
   "id": "d069a59e-1974-45c7-8910-69ba0deca083",
   "metadata": {},
   "source": [
    "##### 4. Логический тип\n",
    "- **`bool_`**: Логическое значение, которое может быть `True` или `False`. Тип bool не является подклассом типа int_ (bool даже не является числовым типом). Это отличается от стандартной реализации bool в Python как подкласса int."
   ]
  },
  {
   "cell_type": "code",
   "execution_count": 188,
   "id": "cde596bb-f81b-4d87-94be-0f970328fe6d",
   "metadata": {},
   "outputs": [
    {
     "name": "stdout",
     "output_type": "stream",
     "text": [
      "True\n"
     ]
    }
   ],
   "source": [
    "print(np.bool_(1))"
   ]
  },
  {
   "cell_type": "markdown",
   "id": "0793c63c-bd61-47db-a11a-4a8dbe37973a",
   "metadata": {},
   "source": [
    "##### 5. Строковые типы\n",
    "- **`str_`**: Строка Unicode фиксированной длины.\n",
    "- **`bytes_`**: Байтовая строка фиксированной длины, аналог типа `bytes` в Python."
   ]
  },
  {
   "cell_type": "markdown",
   "id": "f771a6d8-0ef7-4bc6-87a3-9f7e2ef398d8",
   "metadata": {},
   "source": [
    "##### 6. Типы даты и времени\n",
    "- **`datetime64`**: Представляет дату и время с поддержкой различных уровней точности (от года до наносекунды). Пример: `np.datetime64('2024-01-01')`.\n",
    "- **`timedelta64`**: Представляет разницу во времени между двумя датами или временными значениями с такой же точностью, как у `datetime64`. Пример: `np.timedelta64(10, 'D')` (10 дней)."
   ]
  },
  {
   "cell_type": "code",
   "execution_count": 189,
   "id": "a177caa9-a040-4779-8bc3-f9d99969fef5",
   "metadata": {},
   "outputs": [
    {
     "name": "stdout",
     "output_type": "stream",
     "text": [
      "Дата: 2024-01-01\n",
      "Новая дата после 10 дней: 2024-01-11\n",
      "Разница между датами: -10 days\n"
     ]
    }
   ],
   "source": [
    "date = np.datetime64('2024-01-01')\n",
    "print(\"Дата:\", date)\n",
    "\n",
    "new_date = date + np.timedelta64(10, 'D')\n",
    "print(\"Новая дата после 10 дней:\", new_date)\n",
    "\n",
    "delta = date - new_date\n",
    "print(\"Разница между датами:\", delta)"
   ]
  },
  {
   "cell_type": "markdown",
   "id": "4b0653cf-a164-4fd2-a67e-2d1ae6916b43",
   "metadata": {},
   "source": [
    "##### 7. Тип объектов\n",
    "- **`object_`**: Может хранить произвольные объекты Python."
   ]
  },
  {
   "cell_type": "markdown",
   "id": "58d0223c-49dd-40f3-920c-4cf5d70e149f",
   "metadata": {},
   "source": [
    "##### 8. Специальные типы\n",
    "- **`void`**: Тип данных для произвольной структуры, может использоваться для хранения необработанных данных или структур."
   ]
  },
  {
   "cell_type": "markdown",
   "id": "110bf86f-2381-4dfb-8e78-71d1ffb67b00",
   "metadata": {},
   "source": [
    "#### Массивы"
   ]
  },
  {
   "cell_type": "markdown",
   "id": "ee58d4df-fe18-4456-a99e-e13eb48d7366",
   "metadata": {},
   "source": [
    "Список в Python это такая коллекция из элементов, которая может включать элементы различных типов данные.\n",
    "\n",
    "Массив – это коллекция элементов из одного типа данных. Для этих элементов выделяются смежные, прилегающие друг к другу ячейки памяти, что позволяет быстро добавлять, удалять и получать данные."
   ]
  },
  {
   "cell_type": "markdown",
   "id": "400651a4-87fa-40d5-9361-66b08e9c5568",
   "metadata": {},
   "source": [
    "Массив в NumPy\n",
    "\n",
    "Массив (`numpy.array`) — это основная структура данных в библиотеке NumPy, предназначенная для эффективного хранения и обработки числовых данных.\n",
    "\n",
    "1. **Однородность**: Все элементы массива имеют один тип данных.\n",
    "2. **Векторизация**: Операции применяются ко всем элементам массива одновременно.\n",
    "3. **Размерность**: Массив может быть многомерным (векторы, матрицы и т.д.).\n",
    "4. **Производительность**: Массивы быстрее и более эффективны по памяти по сравнению со списками Python."
   ]
  },
  {
   "cell_type": "code",
   "execution_count": 190,
   "id": "75cd84ba-bbac-43a1-9515-20503d8eb5dc",
   "metadata": {},
   "outputs": [
    {
     "name": "stdout",
     "output_type": "stream",
     "text": [
      "[1 2 3 4]\n"
     ]
    }
   ],
   "source": [
    "import numpy as np\n",
    "arr = np.array([1, 2, 3, 4])\n",
    "print(arr)"
   ]
  },
  {
   "cell_type": "code",
   "execution_count": 191,
   "id": "98e03be6-b629-44ef-98d0-e0d78897b3ba",
   "metadata": {},
   "outputs": [
    {
     "data": {
      "text/plain": [
       "numpy.ndarray"
      ]
     },
     "execution_count": 191,
     "metadata": {},
     "output_type": "execute_result"
    }
   ],
   "source": [
    "type(arr)\n",
    "# n-dimensional array, n-мерный массив"
   ]
  },
  {
   "cell_type": "markdown",
   "id": "cdffc430-58a6-4b34-88b9-0140107aaa10",
   "metadata": {},
   "source": [
    "Различия между массивами и списками\n",
    "\n",
    "1. **Тип данных**:\n",
    "   - **Массивы** (`numpy.array`): Все элементы имеют один и тот же тип, что повышает эффективность работы с памятью.\n",
    "   - **Списки** (`list`): Могут содержать элементы разных типов, что делает их более гибкими.\n",
    "\n",
    "2. **Операции**:\n",
    "   - **Массивы**: Поддерживают векторные операции (например, арифметические действия сразу над всем массивом).\n",
    "   - **Списки**: Требуют циклов для выполнения аналогичных операций.\n",
    "\n",
    "3. **Производительность**:\n",
    "   - **Массивы**: Быстрее при больших объемах данных.\n",
    "   - **Списки**: Менее эффективны в числовых вычислениях.\n"
   ]
  },
  {
   "cell_type": "code",
   "execution_count": 192,
   "id": "2a5faf08-f218-4c5c-9fd4-b65b8fef6cf4",
   "metadata": {},
   "outputs": [
    {
     "name": "stdout",
     "output_type": "stream",
     "text": [
      "[[1 2]\n",
      " [3 4]]\n"
     ]
    }
   ],
   "source": [
    "# Двумерный массив (матрица)\n",
    "arr2 = np.array([[1, 2], [3, 4]])\n",
    "print(arr2)"
   ]
  },
  {
   "cell_type": "code",
   "execution_count": 193,
   "id": "a67a7b80-6b8a-488b-a213-faad7de1157e",
   "metadata": {},
   "outputs": [
    {
     "name": "stdout",
     "output_type": "stream",
     "text": [
      "(2, 2)\n",
      "2\n",
      "4\n"
     ]
    }
   ],
   "source": [
    "# Проверка размерности массива\n",
    "print(arr2.shape)  \n",
    "print(arr2.ndim) # количество измерений\n",
    "print(arr2.size) # количество элементов"
   ]
  },
  {
   "cell_type": "code",
   "execution_count": 194,
   "id": "21fcbd5c-784f-4df8-ba3d-f704dbd2278b",
   "metadata": {},
   "outputs": [
    {
     "name": "stdout",
     "output_type": "stream",
     "text": [
      "[1. 2. 3.]\n"
     ]
    }
   ],
   "source": [
    "# Явное указание типа\n",
    "arr3 = np.array([1, 2, 3], dtype=np.float32)\n",
    "print(arr3)"
   ]
  },
  {
   "cell_type": "code",
   "execution_count": 195,
   "id": "7fc278ee-83c6-4f06-a91e-4d6b642e5306",
   "metadata": {},
   "outputs": [
    {
     "data": {
      "text/plain": [
       "dtype('int64')"
      ]
     },
     "execution_count": 195,
     "metadata": {},
     "output_type": "execute_result"
    }
   ],
   "source": [
    "# свойство dtype показывает тип данных в массиве\n",
    "arr.dtype"
   ]
  },
  {
   "cell_type": "code",
   "execution_count": 196,
   "id": "55bac49d-7b31-4e76-aedc-4420871aa40e",
   "metadata": {},
   "outputs": [
    {
     "data": {
      "text/plain": [
       "dtype('float32')"
      ]
     },
     "execution_count": 196,
     "metadata": {},
     "output_type": "execute_result"
    }
   ],
   "source": [
    "arr3.dtype"
   ]
  },
  {
   "cell_type": "code",
   "execution_count": 197,
   "id": "318703d0-e5e3-4a21-8247-416f9dcf60eb",
   "metadata": {},
   "outputs": [
    {
     "data": {
      "text/plain": [
       "array([5, 7, 9])"
      ]
     },
     "execution_count": 197,
     "metadata": {},
     "output_type": "execute_result"
    }
   ],
   "source": [
    "# Векторные операции\n",
    "arr4 = np.array([1, 2, 3])\n",
    "arr5 = np.array([4, 5, 6])\n",
    "\n",
    "# Сложение\n",
    "result = arr4 + arr5\n",
    "result"
   ]
  },
  {
   "cell_type": "code",
   "execution_count": 198,
   "id": "126d0f06-7350-4f10-8cea-777468f2a996",
   "metadata": {},
   "outputs": [
    {
     "data": {
      "text/plain": [
       "array([40, 50, 60])"
      ]
     },
     "execution_count": 198,
     "metadata": {},
     "output_type": "execute_result"
    }
   ],
   "source": [
    "# Умножение вектора на число\n",
    "arr6 = arr5 * 10\n",
    "arr6"
   ]
  },
  {
   "cell_type": "code",
   "execution_count": 199,
   "id": "525a0e40-3758-4399-9c1a-0f87b673b9c2",
   "metadata": {},
   "outputs": [
    {
     "data": {
      "text/plain": [
       "array([-3, -3, -3])"
      ]
     },
     "execution_count": 199,
     "metadata": {},
     "output_type": "execute_result"
    }
   ],
   "source": [
    "# Вычитание\n",
    "arr4 - arr5"
   ]
  },
  {
   "cell_type": "code",
   "execution_count": 200,
   "id": "dbd14fe7-ca2d-4d6d-bf21-96de0895c36c",
   "metadata": {},
   "outputs": [
    {
     "data": {
      "text/plain": [
       "np.float64(2.5)"
      ]
     },
     "execution_count": 200,
     "metadata": {},
     "output_type": "execute_result"
    }
   ],
   "source": [
    "arr = np.array([1, 2, 3, 4])\n",
    "result = np.mean(arr)\n",
    "result"
   ]
  },
  {
   "cell_type": "code",
   "execution_count": 201,
   "id": "4ebd9535-d1dd-49f7-b38f-fa2149d7433c",
   "metadata": {},
   "outputs": [
    {
     "data": {
      "text/plain": [
       "np.int64(10)"
      ]
     },
     "execution_count": 201,
     "metadata": {},
     "output_type": "execute_result"
    }
   ],
   "source": [
    "result = np.sum(arr)\n",
    "result"
   ]
  },
  {
   "cell_type": "code",
   "execution_count": 202,
   "id": "3f09252f-1fd2-4e6c-9ce2-3247745aef7d",
   "metadata": {},
   "outputs": [
    {
     "data": {
      "text/plain": [
       "array([1., 2., 3., 4.])"
      ]
     },
     "execution_count": 202,
     "metadata": {},
     "output_type": "execute_result"
    }
   ],
   "source": [
    "arr = np.array([1, 4, 9, 16])\n",
    "result = np.sqrt(arr)\n",
    "result"
   ]
  },
  {
   "cell_type": "code",
   "execution_count": 203,
   "id": "11f2d966-cc0c-48b2-a10c-fdfa6dd8a9b8",
   "metadata": {},
   "outputs": [
    {
     "data": {
      "text/plain": [
       "np.int64(32)"
      ]
     },
     "execution_count": 203,
     "metadata": {},
     "output_type": "execute_result"
    }
   ],
   "source": [
    "# Скалярное произведение\n",
    "v1 = np.array([1, 2, 3])\n",
    "v2 = np.array([4, 5, 6])\n",
    "result = np.dot(v1, v2)\n",
    "result"
   ]
  },
  {
   "cell_type": "code",
   "execution_count": 204,
   "id": "bd744fb6-b1b7-44a6-a7ef-470d5861d247",
   "metadata": {},
   "outputs": [
    {
     "data": {
      "text/plain": [
       "array([ 4, 10, 18])"
      ]
     },
     "execution_count": 204,
     "metadata": {},
     "output_type": "execute_result"
    }
   ],
   "source": [
    "# Поэлементное умножение\n",
    "result = np.multiply(v1, v2)\n",
    "result"
   ]
  },
  {
   "cell_type": "code",
   "execution_count": 205,
   "id": "d66b9914-8985-4830-923e-17ea47315808",
   "metadata": {},
   "outputs": [
    {
     "data": {
      "text/plain": [
       "array([[19, 22],\n",
       "       [43, 50]])"
      ]
     },
     "execution_count": 205,
     "metadata": {},
     "output_type": "execute_result"
    }
   ],
   "source": [
    "# Умножение матриц\n",
    "A = np.array([[1, 2], [3, 4]])\n",
    "B = np.array([[5, 6], [7, 8]])\n",
    "result = np.matmul(A, B)\n",
    "result"
   ]
  },
  {
   "cell_type": "code",
   "execution_count": 206,
   "id": "f52194b9-7ff5-4fb8-aa0b-92a5f75faaba",
   "metadata": {},
   "outputs": [
    {
     "name": "stdout",
     "output_type": "stream",
     "text": [
      "[[1 2]\n",
      " [3 4]]\n",
      "\n",
      "[3 7]\n",
      "\n",
      "[4 6]\n"
     ]
    }
   ],
   "source": [
    "# Операции по осям\n",
    "arr7 = np.array([[1, 2], [3, 4]])\n",
    "print(arr7, end='\\n\\n')\n",
    "\n",
    "# Сумма по строкам (ось 1)\n",
    "print(np.sum(arr7, axis=1), end='\\n\\n')\n",
    "\n",
    "# Сумма по столбцам (ось 0)\n",
    "print(np.sum(arr7, axis=0))"
   ]
  },
  {
   "cell_type": "code",
   "execution_count": 207,
   "id": "2fe7e131-3b4e-4ed7-af9f-5d53cb288058",
   "metadata": {},
   "outputs": [
    {
     "name": "stdout",
     "output_type": "stream",
     "text": [
      "1\n",
      "[2 3]\n"
     ]
    }
   ],
   "source": [
    "# Индексация\n",
    "arr = np.array([1, 2, 3])\n",
    "print(arr[0])\n",
    "\n",
    "# Срезы\n",
    "print(arr[1:3])"
   ]
  },
  {
   "cell_type": "code",
   "execution_count": 208,
   "id": "8cca6d45-5dad-41d9-af07-1999d04af7e5",
   "metadata": {},
   "outputs": [
    {
     "data": {
      "text/plain": [
       "array([[1, 2],\n",
       "       [3, 4],\n",
       "       [5, 6]])"
      ]
     },
     "execution_count": 208,
     "metadata": {},
     "output_type": "execute_result"
    }
   ],
   "source": [
    "# Индексация и срезы для матриц\n",
    "arr = np.array([[1, 2], [3, 4], [5, 6]])\n",
    "arr"
   ]
  },
  {
   "cell_type": "code",
   "execution_count": 209,
   "id": "92e8a827-86e6-463e-afad-600243040b13",
   "metadata": {},
   "outputs": [
    {
     "data": {
      "text/plain": [
       "np.int64(2)"
      ]
     },
     "execution_count": 209,
     "metadata": {},
     "output_type": "execute_result"
    }
   ],
   "source": [
    "# прямой доступ к элементу с использованием двумерной индексации\n",
    "arr[0, 1]"
   ]
  },
  {
   "cell_type": "code",
   "execution_count": 210,
   "id": "e96fc84d-dea0-4516-948e-8be8793dd435",
   "metadata": {},
   "outputs": [
    {
     "data": {
      "text/plain": [
       "np.int64(2)"
      ]
     },
     "execution_count": 210,
     "metadata": {},
     "output_type": "execute_result"
    }
   ],
   "source": [
    "# последовательная индексация\n",
    "arr[0][1]"
   ]
  },
  {
   "cell_type": "code",
   "execution_count": 211,
   "id": "e29b5198-c13a-4203-a063-ed71dcf8b843",
   "metadata": {},
   "outputs": [
    {
     "data": {
      "text/plain": [
       "array([3, 4])"
      ]
     },
     "execution_count": 211,
     "metadata": {},
     "output_type": "execute_result"
    }
   ],
   "source": [
    "# выбор строки\n",
    "arr[1]"
   ]
  },
  {
   "cell_type": "code",
   "execution_count": 212,
   "id": "0239c825-806d-4969-8ae6-318f90b77fc8",
   "metadata": {},
   "outputs": [
    {
     "data": {
      "text/plain": [
       "array([2, 4, 6])"
      ]
     },
     "execution_count": 212,
     "metadata": {},
     "output_type": "execute_result"
    }
   ],
   "source": [
    "# выбор столбца\n",
    "# : используется для выбора всех элементов вдоль оси\n",
    "arr[:, 1]"
   ]
  },
  {
   "cell_type": "code",
   "execution_count": 213,
   "id": "1ef83709-54fc-4428-83e0-1a842088ff47",
   "metadata": {},
   "outputs": [
    {
     "data": {
      "text/plain": [
       "array([[1, 2],\n",
       "       [3, 4]])"
      ]
     },
     "execution_count": 213,
     "metadata": {},
     "output_type": "execute_result"
    }
   ],
   "source": [
    "arr[0:2, :]"
   ]
  },
  {
   "cell_type": "code",
   "execution_count": null,
   "id": "bb1928fe-6134-4c21-bc05-79a3a2aa204d",
   "metadata": {},
   "outputs": [],
   "source": []
  },
  {
   "cell_type": "code",
   "execution_count": 214,
   "id": "93ea42b3-b463-4d1b-81f9-a1a44efb5fe9",
   "metadata": {},
   "outputs": [
    {
     "data": {
      "text/plain": [
       "array([1, 2, 3])"
      ]
     },
     "execution_count": 214,
     "metadata": {},
     "output_type": "execute_result"
    }
   ],
   "source": [
    "# Сортировка\n",
    "\n",
    "# Одномерные массивы\n",
    "arr = np.array([3, 1, 2])\n",
    "sorted_arr = np.sort(arr)\n",
    "sorted_arr"
   ]
  },
  {
   "cell_type": "code",
   "execution_count": 215,
   "id": "6c30c26c-b950-4c8c-82a8-ba80395f6df4",
   "metadata": {},
   "outputs": [
    {
     "data": {
      "text/plain": [
       "array([3, 1, 2])"
      ]
     },
     "execution_count": 215,
     "metadata": {},
     "output_type": "execute_result"
    }
   ],
   "source": [
    "arr"
   ]
  },
  {
   "cell_type": "code",
   "execution_count": 216,
   "id": "977351c5-3603-4410-8225-7879455bfd53",
   "metadata": {},
   "outputs": [],
   "source": [
    "arr.sort()"
   ]
  },
  {
   "cell_type": "code",
   "execution_count": 217,
   "id": "a1643115-4885-4e7a-be9b-f9f9e8e62376",
   "metadata": {},
   "outputs": [
    {
     "data": {
      "text/plain": [
       "array([1, 2, 3])"
      ]
     },
     "execution_count": 217,
     "metadata": {},
     "output_type": "execute_result"
    }
   ],
   "source": [
    "arr"
   ]
  },
  {
   "cell_type": "code",
   "execution_count": 218,
   "id": "c134c3dd-c11c-4901-8163-a2bf652ac428",
   "metadata": {},
   "outputs": [
    {
     "data": {
      "text/plain": [
       "array([1, 2, 0])"
      ]
     },
     "execution_count": 218,
     "metadata": {},
     "output_type": "execute_result"
    }
   ],
   "source": [
    "# возвращает индексы, которые отсортировали бы массив:\n",
    "\n",
    "arr = np.array([3, 1, 2])\n",
    "indices = np.argsort(arr)\n",
    "indices"
   ]
  },
  {
   "cell_type": "code",
   "execution_count": 219,
   "id": "69d33ff6-f129-4e01-aefe-873873b03d90",
   "metadata": {},
   "outputs": [
    {
     "data": {
      "text/plain": [
       "array([[1, 2, 3],\n",
       "       [4, 5, 6]])"
      ]
     },
     "execution_count": 219,
     "metadata": {},
     "output_type": "execute_result"
    }
   ],
   "source": [
    "# Двумерные массивы\n",
    "matrix = np.array([[3, 2, 1], [6, 5, 4]])\n",
    "sorted_matrix = np.sort(matrix)\n",
    "sorted_matrix"
   ]
  },
  {
   "cell_type": "code",
   "execution_count": 220,
   "id": "78e42b9b-be8e-408d-84aa-d24a267f08b9",
   "metadata": {},
   "outputs": [
    {
     "data": {
      "text/plain": [
       "array([[3, 2, 1],\n",
       "       [6, 5, 4]])"
      ]
     },
     "execution_count": 220,
     "metadata": {},
     "output_type": "execute_result"
    }
   ],
   "source": [
    "# по столбцам\n",
    "sorted_matrix_cols = np.sort(matrix, axis=0)\n",
    "sorted_matrix_cols"
   ]
  },
  {
   "cell_type": "code",
   "execution_count": 221,
   "id": "b07a03af-6958-42fd-9045-21f56a293f55",
   "metadata": {},
   "outputs": [
    {
     "data": {
      "text/plain": [
       "array([0, 2, 4, 6, 8])"
      ]
     },
     "execution_count": 221,
     "metadata": {},
     "output_type": "execute_result"
    }
   ],
   "source": [
    "# Генерация массивов\n",
    "\n",
    "# np.arange([start, ]stop, [step, ], dtype=None)\n",
    "# массив с равномерно распределёнными значениями в указанном диапазоне\n",
    "\n",
    "np.arange(0, 10, 2)"
   ]
  },
  {
   "cell_type": "code",
   "execution_count": 222,
   "id": "a9f5c554-87f1-4d5d-a636-22cc676cb273",
   "metadata": {},
   "outputs": [
    {
     "data": {
      "text/plain": [
       "array([1, 2, 3, 4, 5, 6, 7, 8, 9])"
      ]
     },
     "execution_count": 222,
     "metadata": {},
     "output_type": "execute_result"
    }
   ],
   "source": [
    "np.arange(1, 10)"
   ]
  },
  {
   "cell_type": "code",
   "execution_count": 223,
   "id": "7bf078a5-3602-4180-9dac-2ab9d3372c29",
   "metadata": {},
   "outputs": [
    {
     "data": {
      "text/plain": [
       "array([0, 1, 2, 3, 4])"
      ]
     },
     "execution_count": 223,
     "metadata": {},
     "output_type": "execute_result"
    }
   ],
   "source": [
    "np.arange(5)"
   ]
  },
  {
   "cell_type": "code",
   "execution_count": 224,
   "id": "515b14a2-9303-4bcb-a10f-d587f44ab2b6",
   "metadata": {},
   "outputs": [
    {
     "data": {
      "text/plain": [
       "array([0. , 0.2, 0.4, 0.6, 0.8])"
      ]
     },
     "execution_count": 224,
     "metadata": {},
     "output_type": "execute_result"
    }
   ],
   "source": [
    "np.arange(0, 1, 0.2)"
   ]
  },
  {
   "cell_type": "code",
   "execution_count": 225,
   "id": "dd800b7f-cff3-4073-898c-e77f04b4cd96",
   "metadata": {},
   "outputs": [
    {
     "data": {
      "text/plain": [
       "array([10,  8,  6,  4,  2])"
      ]
     },
     "execution_count": 225,
     "metadata": {},
     "output_type": "execute_result"
    }
   ],
   "source": [
    "np.arange(10, 0, -2)"
   ]
  },
  {
   "cell_type": "code",
   "execution_count": 226,
   "id": "d4180a7a-e026-47aa-97a3-fd4866860206",
   "metadata": {},
   "outputs": [
    {
     "data": {
      "text/plain": [
       "array([0., 1., 2., 3., 4.], dtype=float32)"
      ]
     },
     "execution_count": 226,
     "metadata": {},
     "output_type": "execute_result"
    }
   ],
   "source": [
    "np.arange(0, 5, dtype=np.float32)"
   ]
  },
  {
   "cell_type": "code",
   "execution_count": 227,
   "id": "3e5fde38-cbee-464c-abb9-3b7aeea7beee",
   "metadata": {},
   "outputs": [
    {
     "name": "stdout",
     "output_type": "stream",
     "text": [
      "[0.   0.25 0.5  0.75 1.  ]\n",
      "[0. 2. 4. 6. 8.]\n",
      "[0.   0.25 0.5  0.75 1.  ]\n",
      "0.25\n"
     ]
    }
   ],
   "source": [
    "# np.linspace(start, stop, num=50, endpoint=True, retstep=False, dtype=None)\n",
    "# генерирует равномерно распределённые значения между двумя заданными числами\n",
    "\n",
    "# Простое использование\n",
    "arr = np.linspace(0, 1, 5)\n",
    "print(arr)\n",
    "\n",
    "# Без конечного значения\n",
    "arr = np.linspace(0, 10, 5, endpoint=False)\n",
    "print(arr)\n",
    "\n",
    "#Возврат шага между элементами\n",
    "\n",
    "arr, step = np.linspace(0, 1, 5, retstep=True)\n",
    "print(arr)\n",
    "print(step)\n",
    "\n",
    "# np.linspace() лучше использовать, когда вам нужно создать массив с точным количеством элементов в заданном диапазоне"
   ]
  },
  {
   "cell_type": "code",
   "execution_count": 228,
   "id": "e4132b55-02bd-4b00-af83-0ac22566ef88",
   "metadata": {},
   "outputs": [
    {
     "name": "stdout",
     "output_type": "stream",
     "text": [
      "[[0. 0. 0.]\n",
      " [0. 0. 0.]]\n",
      "[[1. 1. 1.]\n",
      " [1. 1. 1.]\n",
      " [1. 1. 1.]]\n",
      "[[1. 0. 0. 0.]\n",
      " [0. 1. 0. 0.]\n",
      " [0. 0. 1. 0.]\n",
      " [0. 0. 0. 1.]]\n"
     ]
    }
   ],
   "source": [
    "# Нули\n",
    "zeros = np.zeros((2, 3))\n",
    "print(zeros)\n",
    "\n",
    "# Единицы\n",
    "ones = np.ones((3, 3))\n",
    "print(ones)\n",
    "\n",
    "# Диагональная единичная матрица\n",
    "identity = np.eye(4)\n",
    "print(identity)\n",
    "# Диагональная матрица — квадратная матрица, все элементы которой, стоящие вне главной диагонали, равны нулю"
   ]
  },
  {
   "cell_type": "code",
   "execution_count": 229,
   "id": "d05248ec-e979-4eb7-9066-1f00c233085d",
   "metadata": {},
   "outputs": [
    {
     "data": {
      "text/plain": [
       "array([[0., 1., 0.],\n",
       "       [0., 0., 1.],\n",
       "       [0., 0., 0.]])"
      ]
     },
     "execution_count": 229,
     "metadata": {},
     "output_type": "execute_result"
    }
   ],
   "source": [
    "np.eye(3, k=1)\n",
    "# параметр k задает номер диагонали"
   ]
  },
  {
   "cell_type": "code",
   "execution_count": 230,
   "id": "54c67e07-4437-439e-9403-63a16ce4408c",
   "metadata": {},
   "outputs": [
    {
     "data": {
      "text/plain": [
       "array([[1., 0.],\n",
       "       [0., 1.],\n",
       "       [0., 0.]])"
      ]
     },
     "execution_count": 230,
     "metadata": {},
     "output_type": "execute_result"
    }
   ],
   "source": [
    "np.eye(3, 2)"
   ]
  },
  {
   "cell_type": "code",
   "execution_count": 231,
   "id": "371ad2d9-1aae-40a8-a2ce-ccdecfc7671c",
   "metadata": {},
   "outputs": [
    {
     "name": "stdout",
     "output_type": "stream",
     "text": [
      "[[1 2 3]\n",
      " [4 5 6]]\n"
     ]
    }
   ],
   "source": [
    "# Изменение формы массива\n",
    "arr6 = np.array([[1, 2, 3], [4, 5, 6]])\n",
    "print(arr6)"
   ]
  },
  {
   "cell_type": "code",
   "execution_count": 236,
   "id": "ae070651-1e01-43ee-b6f7-3d07be238170",
   "metadata": {},
   "outputs": [
    {
     "name": "stdout",
     "output_type": "stream",
     "text": [
      "[[1 2]\n",
      " [3 4]\n",
      " [5 6]]\n"
     ]
    }
   ],
   "source": [
    "arr_reshaped = arr6.reshape(3, 2)\n",
    "print(arr_reshaped)"
   ]
  },
  {
   "cell_type": "code",
   "execution_count": 238,
   "id": "c8af95ff-e236-44d9-9801-b5b504bded1e",
   "metadata": {},
   "outputs": [
    {
     "data": {
      "text/plain": [
       "array([[1, 2, 3, 4, 5, 6]])"
      ]
     },
     "execution_count": 238,
     "metadata": {},
     "output_type": "execute_result"
    }
   ],
   "source": [
    "arr6.reshape(1, 6)"
   ]
  },
  {
   "cell_type": "code",
   "execution_count": 239,
   "id": "bd661172-2fab-4502-9d28-d61a5b5c62e0",
   "metadata": {},
   "outputs": [
    {
     "data": {
      "text/plain": [
       "array([0, 1, 2, 3, 4, 5, 6, 7])"
      ]
     },
     "execution_count": 239,
     "metadata": {},
     "output_type": "execute_result"
    }
   ],
   "source": [
    "arr = np.arange(8)\n",
    "arr"
   ]
  },
  {
   "cell_type": "code",
   "execution_count": 240,
   "id": "79525b9b-8c3a-4b24-a022-9c7f340e32d4",
   "metadata": {},
   "outputs": [
    {
     "name": "stdout",
     "output_type": "stream",
     "text": [
      "[[0 1 2 3]\n",
      " [4 5 6 7]]\n"
     ]
    }
   ],
   "source": [
    "reshaped_arr = arr.reshape(2, -1)  # NumPy сам вычислит вторую размерность\n",
    "print(reshaped_arr)"
   ]
  },
  {
   "cell_type": "code",
   "execution_count": 241,
   "id": "696ecc64-4fa8-40f1-ac13-944af10b18e5",
   "metadata": {},
   "outputs": [
    {
     "data": {
      "text/plain": [
       "array([[0, 1, 2],\n",
       "       [3, 4, 5],\n",
       "       [6, 7, 8]])"
      ]
     },
     "execution_count": 241,
     "metadata": {},
     "output_type": "execute_result"
    }
   ],
   "source": [
    "arr = np.arange(9).reshape(3, 3)\n",
    "arr"
   ]
  },
  {
   "cell_type": "code",
   "execution_count": 242,
   "id": "3e22325b-7d83-4423-831c-eb64363aae34",
   "metadata": {},
   "outputs": [
    {
     "name": "stdout",
     "output_type": "stream",
     "text": [
      "[0 1 2 3 4 5 6 7 8]\n"
     ]
    }
   ],
   "source": [
    "flattened_arr = arr.reshape(-1)\n",
    "print(flattened_arr)"
   ]
  },
  {
   "cell_type": "code",
   "execution_count": 243,
   "id": "0443f933-1259-44b7-b0e5-3c7ae927c7f7",
   "metadata": {},
   "outputs": [
    {
     "data": {
      "text/plain": [
       "array([[0, 1, 2],\n",
       "       [3, 4, 5]])"
      ]
     },
     "execution_count": 243,
     "metadata": {},
     "output_type": "execute_result"
    }
   ],
   "source": [
    "# Порядок 'C' по умолчанию, по строкам\n",
    "arr = np.arange(6).reshape(2, 3, order='C')\n",
    "arr"
   ]
  },
  {
   "cell_type": "code",
   "execution_count": 244,
   "id": "9eb2bd31-6e34-4ffd-8d5f-1a36184e35f4",
   "metadata": {},
   "outputs": [
    {
     "data": {
      "text/plain": [
       "array([[0, 2, 4],\n",
       "       [1, 3, 5]])"
      ]
     },
     "execution_count": 244,
     "metadata": {},
     "output_type": "execute_result"
    }
   ],
   "source": [
    "# Порядок 'F' - по столбцам\n",
    "arr = np.arange(6).reshape(2, 3, order='F')\n",
    "arr"
   ]
  },
  {
   "cell_type": "code",
   "execution_count": 271,
   "id": "1f93b83a-99d2-449c-929d-a4d7edec3566",
   "metadata": {},
   "outputs": [
    {
     "name": "stdout",
     "output_type": "stream",
     "text": [
      "[[1 2 3]\n",
      " [4 5 6]]\n"
     ]
    }
   ],
   "source": [
    "# Транспонирование\n",
    "# https://ru.wikipedia.org/wiki/Транспонированная_матрица\n",
    "arr = np.array([[1, 2, 3], [4, 5, 6]])\n",
    "print(arr)"
   ]
  },
  {
   "cell_type": "code",
   "execution_count": 272,
   "id": "97a0d398-5ed2-4d5e-9bad-f40139b2d516",
   "metadata": {},
   "outputs": [
    {
     "data": {
      "text/plain": [
       "array([[1, 4],\n",
       "       [2, 5],\n",
       "       [3, 6]])"
      ]
     },
     "execution_count": 272,
     "metadata": {},
     "output_type": "execute_result"
    }
   ],
   "source": [
    "transposed_arr = np.transpose(arr)\n",
    "transposed_arr"
   ]
  },
  {
   "cell_type": "code",
   "execution_count": 247,
   "id": "ecd6c516-b421-4224-a989-4f8786223cb9",
   "metadata": {},
   "outputs": [
    {
     "name": "stdout",
     "output_type": "stream",
     "text": [
      "[[0.92132386 0.85197096 0.18431889]\n",
      " [0.59841736 0.7516001  0.47327793]\n",
      " [0.78765713 0.99906408 0.46144708]]\n"
     ]
    }
   ],
   "source": [
    "# Генерация случайных массивов\n",
    "\n",
    "# Случайные числа от 0 до 1\n",
    "random_arr = np.random.rand(3, 3)\n",
    "print(random_arr)"
   ]
  },
  {
   "cell_type": "code",
   "execution_count": 249,
   "id": "4736bc34-7fcf-44d7-bf92-153d3885c09d",
   "metadata": {},
   "outputs": [
    {
     "name": "stdout",
     "output_type": "stream",
     "text": [
      "[[5 3 3 9 4]\n",
      " [1 7 1 2 4]\n",
      " [9 4 9 4 7]\n",
      " [7 4 8 7 6]]\n"
     ]
    }
   ],
   "source": [
    "# Случайные целые числа\n",
    "random_ints = np.random.randint(1, 10, size=(4, 5))\n",
    "print(random_ints)"
   ]
  },
  {
   "cell_type": "code",
   "execution_count": 277,
   "id": "53bca236-11eb-4941-bcfb-9749ae28a5fc",
   "metadata": {},
   "outputs": [
    {
     "name": "stderr",
     "output_type": "stream",
     "text": [
      "/tmp/ipykernel_372361/2488403466.py:3: RuntimeWarning: invalid value encountered in sqrt\n",
      "  arr = np.sqrt(result)\n"
     ]
    },
    {
     "data": {
      "text/plain": [
       "array([ 2., nan,  5., nan])"
      ]
     },
     "execution_count": 277,
     "metadata": {},
     "output_type": "execute_result"
    }
   ],
   "source": [
    "# Пустые значения\n",
    "result = np.array([4.0, -9.0, 25, -81])\n",
    "arr = np.sqrt(result)\n",
    "arr"
   ]
  },
  {
   "cell_type": "code",
   "execution_count": 251,
   "id": "56774fca-cf68-40be-865d-7b56d67a9f15",
   "metadata": {},
   "outputs": [
    {
     "name": "stderr",
     "output_type": "stream",
     "text": [
      "/tmp/ipykernel_372361/2073658153.py:1: RuntimeWarning: invalid value encountered in log\n",
      "  np.log(result)\n"
     ]
    },
    {
     "data": {
      "text/plain": [
       "array([1.38629436,        nan, 3.21887582,        nan])"
      ]
     },
     "execution_count": 251,
     "metadata": {},
     "output_type": "execute_result"
    }
   ],
   "source": [
    "np.log(result)"
   ]
  },
  {
   "cell_type": "code",
   "execution_count": 275,
   "id": "e35b507c-9107-457b-aeec-4d68acd936de",
   "metadata": {},
   "outputs": [
    {
     "data": {
      "text/plain": [
       "3.999999995520437"
      ]
     },
     "execution_count": 275,
     "metadata": {},
     "output_type": "execute_result"
    }
   ],
   "source": [
    "import math\n",
    "math.e ** 1.38629436"
   ]
  },
  {
   "cell_type": "code",
   "execution_count": 280,
   "id": "d8be24b7-1fcf-4b9c-9d8f-db5b6edf6013",
   "metadata": {},
   "outputs": [
    {
     "data": {
      "text/plain": [
       "array([ 2., nan,  5., nan])"
      ]
     },
     "execution_count": 280,
     "metadata": {},
     "output_type": "execute_result"
    }
   ],
   "source": [
    "arr"
   ]
  },
  {
   "cell_type": "code",
   "execution_count": 279,
   "id": "34705409-5a53-42ed-88da-17a0c29309e8",
   "metadata": {},
   "outputs": [
    {
     "data": {
      "text/plain": [
       "np.float64(2.0)"
      ]
     },
     "execution_count": 279,
     "metadata": {},
     "output_type": "execute_result"
    }
   ],
   "source": [
    "arr[0]"
   ]
  },
  {
   "cell_type": "code",
   "execution_count": 252,
   "id": "6fadf9af-5598-430a-aaef-f5394abb53b7",
   "metadata": {},
   "outputs": [
    {
     "data": {
      "text/plain": [
       "np.float64(nan)"
      ]
     },
     "execution_count": 252,
     "metadata": {},
     "output_type": "execute_result"
    }
   ],
   "source": [
    "np.sum(arr)"
   ]
  },
  {
   "cell_type": "code",
   "execution_count": 253,
   "id": "8b647750-334f-4f71-95a8-7f8d3ab06027",
   "metadata": {},
   "outputs": [
    {
     "data": {
      "text/plain": [
       "array([ 2., nan,  5., nan])"
      ]
     },
     "execution_count": 253,
     "metadata": {},
     "output_type": "execute_result"
    }
   ],
   "source": [
    "arr"
   ]
  },
  {
   "cell_type": "code",
   "execution_count": 254,
   "id": "28bd0826-3a18-49be-adf9-19dcb246ffea",
   "metadata": {},
   "outputs": [
    {
     "name": "stdout",
     "output_type": "stream",
     "text": [
      "Это NaN: [False  True False  True]\n"
     ]
    }
   ],
   "source": [
    "# Проверка на nan\n",
    "is_nan = np.isnan(arr)\n",
    "print(\"Это nan:\", is_nan)"
   ]
  },
  {
   "cell_type": "code",
   "execution_count": 283,
   "id": "c1e7a77b-68c9-433a-b193-71251eb15a0a",
   "metadata": {},
   "outputs": [
    {
     "data": {
      "text/plain": [
       "np.float64(7.0)"
      ]
     },
     "execution_count": 283,
     "metadata": {},
     "output_type": "execute_result"
    }
   ],
   "source": [
    "# Сумма без учета nan\n",
    "sum_ = np.nansum(arr)\n",
    "sum_"
   ]
  },
  {
   "cell_type": "code",
   "execution_count": 256,
   "id": "5079b252-c5ae-41a7-acc0-bbcddd17cd70",
   "metadata": {},
   "outputs": [
    {
     "data": {
      "text/plain": [
       "np.float64(nan)"
      ]
     },
     "execution_count": 256,
     "metadata": {},
     "output_type": "execute_result"
    }
   ],
   "source": [
    "np.mean(arr)"
   ]
  },
  {
   "cell_type": "code",
   "execution_count": 257,
   "id": "7d19a6b8-17b8-4e15-bb59-57d74a5b81d9",
   "metadata": {},
   "outputs": [
    {
     "name": "stdout",
     "output_type": "stream",
     "text": [
      "Среднее: 3.5\n"
     ]
    }
   ],
   "source": [
    "# Среднее без учета nan\n",
    "mean_ = np.nanmean(arr)\n",
    "print(\"Среднее:\", mean_)"
   ]
  },
  {
   "cell_type": "code",
   "execution_count": 259,
   "id": "62e06e09-6f0b-47ee-b2c8-e87cc1d7dcc7",
   "metadata": {},
   "outputs": [
    {
     "name": "stdout",
     "output_type": "stream",
     "text": [
      "Замена nan на 0: [2. 0. 5. 0.]\n"
     ]
    }
   ],
   "source": [
    "# Замена nan на 0\n",
    "arr_filled = np.nan_to_num(arr, nan=0)\n",
    "print(\"Замена nan на 0:\", arr_filled)"
   ]
  },
  {
   "cell_type": "code",
   "execution_count": 261,
   "id": "7d1e445d-0a1e-4dbf-919a-3848760e1baf",
   "metadata": {},
   "outputs": [
    {
     "data": {
      "text/plain": [
       "np.float64(1.75)"
      ]
     },
     "execution_count": 261,
     "metadata": {},
     "output_type": "execute_result"
    }
   ],
   "source": [
    "np.mean(arr_filled)"
   ]
  },
  {
   "cell_type": "code",
   "execution_count": 262,
   "id": "ae3b2640-7258-42eb-ab50-183b4ae82cf2",
   "metadata": {},
   "outputs": [
    {
     "data": {
      "text/plain": [
       "np.float64(7.0)"
      ]
     },
     "execution_count": 262,
     "metadata": {},
     "output_type": "execute_result"
    }
   ],
   "source": [
    "np.sum(arr_filled)"
   ]
  },
  {
   "cell_type": "code",
   "execution_count": 263,
   "id": "f5a4d2d0-3717-44d9-a07c-906b0508f22b",
   "metadata": {},
   "outputs": [
    {
     "name": "stdout",
     "output_type": "stream",
     "text": [
      "Массив без nan: [2. 5.]\n"
     ]
    }
   ],
   "source": [
    "# Удаление nan из массива\n",
    "arr_cleaned = arr[~np.isnan(arr)]\n",
    "print(\"Массив без nan:\", arr_cleaned)"
   ]
  },
  {
   "cell_type": "code",
   "execution_count": 264,
   "id": "dfa223ab-46c6-4f76-a558-25be0729040a",
   "metadata": {},
   "outputs": [
    {
     "data": {
      "text/plain": [
       "array([ True, False,  True, False])"
      ]
     },
     "execution_count": 264,
     "metadata": {},
     "output_type": "execute_result"
    }
   ],
   "source": [
    "~np.isnan(arr)"
   ]
  },
  {
   "cell_type": "code",
   "execution_count": 265,
   "id": "d1a80c98-f26c-46e9-8518-dd5036590108",
   "metadata": {},
   "outputs": [
    {
     "data": {
      "text/plain": [
       "array([False,  True, False,  True])"
      ]
     },
     "execution_count": 265,
     "metadata": {},
     "output_type": "execute_result"
    }
   ],
   "source": [
    "np.isnan(arr)"
   ]
  },
  {
   "cell_type": "code",
   "execution_count": 267,
   "id": "1d48bb9c-3447-4acd-bed6-7fd9a2ee9721",
   "metadata": {},
   "outputs": [
    {
     "data": {
      "text/plain": [
       "array([ 2., nan,  5.])"
      ]
     },
     "execution_count": 267,
     "metadata": {},
     "output_type": "execute_result"
    }
   ],
   "source": [
    "arr[[True, True, True, False]]"
   ]
  },
  {
   "cell_type": "code",
   "execution_count": 285,
   "id": "b6cb1039-b143-4777-b23e-7a8ccdbc95b0",
   "metadata": {},
   "outputs": [
    {
     "data": {
      "text/plain": [
       "array([ 4., -9., 25., nan])"
      ]
     },
     "execution_count": 285,
     "metadata": {},
     "output_type": "execute_result"
    }
   ],
   "source": [
    "np.array([4, -9, 25, np.nan])"
   ]
  },
  {
   "cell_type": "code",
   "execution_count": null,
   "id": "d5d6d843-e1a6-4058-90fa-52c51dc0d653",
   "metadata": {},
   "outputs": [],
   "source": []
  }
 ],
 "metadata": {
  "kernelspec": {
   "display_name": "Python 3 (ipykernel)",
   "language": "python",
   "name": "python3"
  },
  "language_info": {
   "codemirror_mode": {
    "name": "ipython",
    "version": 3
   },
   "file_extension": ".py",
   "mimetype": "text/x-python",
   "name": "python",
   "nbconvert_exporter": "python",
   "pygments_lexer": "ipython3",
   "version": "3.12.3"
  }
 },
 "nbformat": 4,
 "nbformat_minor": 5
}
